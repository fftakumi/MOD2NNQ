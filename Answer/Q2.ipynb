{
 "cells": [
  {
   "cell_type": "code",
   "execution_count": 1,
   "outputs": [],
   "source": [
    "import numpy as np\n",
    "from matplotlib import pyplot as plt"
   ],
   "metadata": {
    "collapsed": false,
    "pycharm": {
     "name": "#%%\n"
    }
   }
  },
  {
   "cell_type": "code",
   "execution_count": 41,
   "outputs": [
    {
     "data": {
      "text/plain": "[<matplotlib.lines.Line2D at 0x125f6bd30>]"
     },
     "execution_count": 41,
     "metadata": {},
     "output_type": "execute_result"
    },
    {
     "data": {
      "text/plain": "<Figure size 432x288 with 1 Axes>",
      "image/png": "[encoded data removed]"
     },
     "metadata": {
      "needs_background": "light"
     },
     "output_type": "display_data"
    }
   ],
   "source": [
    "wavelength = 633e-9\n",
    "k = 2*np.pi/wavelength\n",
    "d = 2.0e-6\n",
    "N=10\n",
    "zeta = 0.\n",
    "eta = np.arange(-N, N+1, 1).reshape((-1, 1))*d\n",
    "\n",
    "x = 0.\n",
    "y = np.linspace(-25e-2, 25e-2, 1000)\n",
    "z = 25.0e-2\n",
    "r = np.sqrt((x-zeta)**2 + (y-eta)**2 + z**2)\n",
    "h = 1/(2*np.pi) * z/r * (1/r-1.0j*k) * np.exp(1.0j*k*r)/r\n",
    "U = np.sum(h, axis=0)\n",
    "I = np.abs(U)**2\n",
    "\n",
    "plt.plot(I, y)\n",
    "# plt.savefig(\"../Questions/images/Q2_2.png\")"
   ],
   "metadata": {
    "collapsed": false,
    "pycharm": {
     "name": "#%%\n"
    }
   }
  },
  {
   "cell_type": "code",
   "execution_count": 54,
   "outputs": [
    {
     "data": {
      "text/plain": "(21, 1000)"
     },
     "execution_count": 54,
     "metadata": {},
     "output_type": "execute_result"
    }
   ],
   "source": [],
   "metadata": {
    "collapsed": false,
    "pycharm": {
     "name": "#%%\n"
    }
   }
  }
 ],
 "metadata": {
  "kernelspec": {
   "display_name": "Python 3",
   "language": "python",
   "name": "python3"
  },
  "language_info": {
   "codemirror_mode": {
    "name": "ipython",
    "version": 2
   },
   "file_extension": ".py",
   "mimetype": "text/x-python",
   "name": "python",
   "nbconvert_exporter": "python",
   "pygments_lexer": "ipython2",
   "version": "2.7.6"
  }
 },
 "nbformat": 4,
 "nbformat_minor": 0
}