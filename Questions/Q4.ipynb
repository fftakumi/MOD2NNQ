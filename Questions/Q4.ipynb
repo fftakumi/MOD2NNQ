{
 "cells": [
  {
   "cell_type": "markdown",
   "source": [
    "# 光の偏光状態"
   ],
   "metadata": {
    "collapsed": false,
    "pycharm": {
     "name": "#%% md\n"
    }
   }
  },
  {
   "cell_type": "markdown",
   "source": [
    "光の偏光状態は、右円偏光と左円偏光を足し合わせることでどのような偏光状態でも表すことができる。\n",
    "$$\n",
    "E = E_+ + E_-\n",
    "$$\n",
    "\n",
    "$$\n",
    "E_{\\pm} = \\dfrac{E_0}{\\sqrt{2}}( \\mathbf i \\pm i \\mathbf j )exp \\left( -i \\omega \\left( t- \\dfrac{N_\\pm}{c} z \\right) \\right)\n",
    "$$\n",
    "\n",
    "$\\mathbf i, \\mathbf j$は$x,y$方向の単位ベクトル。\n",
    "\n",
    "$$\n",
    "\\mathbf i =\n",
    "\\begin{pmatrix}\n",
    "1 \\\\\n",
    "0 \\\\\n",
    "\\end{pmatrix} ,\n",
    "\\mathbf j =\n",
    "\\begin{pmatrix}\n",
    "0 \\\\\n",
    "1 \\\\\n",
    "\\end{pmatrix} \\\\\n",
    "$$\n",
    "\n",
    "$E_+,E_-$はそれぞれ右円偏光、左円偏光<br>\n",
    "これを用いて様々な条件の下での変更状態を確かめる。上記の式は右円偏光と左円偏光の振幅が同じものであり、この場合、直線偏光になる。右円偏光と左円偏光で分けて書くと\n",
    "\n",
    "$$\n",
    "\\begin{aligned}\n",
    "E_{+} &= \\begin{pmatrix}\n",
    "E_x \\\\\n",
    "E_y \\\\\n",
    "\\end{pmatrix}\n",
    "=\n",
    "\\dfrac{|E_+|}{\\sqrt{2}}( \\mathbf i + i \\mathbf j )exp \\left( -i \\omega \\left( t- \\phi_+ \\right) \\right) \\\\\n",
    "\n",
    "E_{-} &= \\begin{pmatrix}\n",
    "E_x \\\\\n",
    "E_y \\\\\n",
    "\\end{pmatrix}\n",
    "=\n",
    "\\dfrac{|E_-|}{\\sqrt{2}}( \\mathbf i - i \\mathbf j )exp \\left( -i \\omega \\left( t- \\phi_- \\right) \\right)\n",
    "\\end{aligned}\n",
    "$$\n",
    "\n",
    "となる。ここでは、$|E_+|,|E_-|$はそれぞれ右円偏光と左円偏光の振幅(に比例する量)である。\n",
    "\n",
    "$$\n",
    "\\phi_{\\pm}= \\dfrac{N_\\pm}{c} z\n",
    "$$\n",
    "\n",
    "とおいた。この$\\phi$が位相変調量である。実際、位相に関しては右円偏光と左円偏光の位相差\n",
    "\n",
    "$$\n",
    "\\Delta \\phi = \\phi_+ - \\phi_-\n",
    "$$\n",
    "\n",
    "しか意味はないので、これを用いて、左右円偏光の式を書き直せば\n",
    "\n",
    "$$\n",
    "\\begin{aligned}\n",
    "E_{+} &= \\begin{pmatrix}\n",
    "E_x \\\\\n",
    "E_y \\\\\n",
    "\\end{pmatrix}\n",
    "=\n",
    "\\dfrac{|E_+|}{\\sqrt{2}}( \\mathbf i + i \\mathbf j )exp \\left( -i \\omega t \\right) \\\\\n",
    "E_{-} &= \\begin{pmatrix}\n",
    "E_x \\\\\n",
    "E_y \\\\\n",
    "\\end{pmatrix}\n",
    "=\n",
    "\\dfrac{|E_-|}{\\sqrt{2}}( \\mathbf i - i \\mathbf j )exp \\left( -i \\omega \\left( t- \\Delta \\phi \\right) \\right)\n",
    "\\end{aligned}\n",
    "$$\n",
    "\n",
    "となる。"
   ],
   "metadata": {
    "collapsed": false,
    "pycharm": {
     "name": "#%% md\n"
    }
   }
  },
  {
   "cell_type": "markdown",
   "source": [
    "### (1)\n",
    "まずは右円偏光の式をプロットして円を描くことを確かめる。<br>\n",
    "$E_+$において、<br>\n",
    "$0 \\leq t \\leq 2\\pi$ <br>\n",
    "$|E_+|=1$<br>\n",
    "$\\omega=1$<br>\n",
    "のとき、$E_x$の実部を横軸、$E_y$の実部を縦軸にプロットする。"
   ],
   "metadata": {
    "collapsed": false,
    "pycharm": {
     "name": "#%% md\n"
    }
   }
  },
  {
   "cell_type": "markdown",
   "source": [
    "例\n",
    "<img src=\"images/Q4_1.png\">"
   ],
   "metadata": {
    "collapsed": false,
    "pycharm": {
     "name": "#%% md\n"
    }
   }
  },
  {
   "cell_type": "markdown",
   "source": [
    "### (2)\n",
    "同じ振幅をもつ左右円偏光を足すことで、直線偏光になることを確かめる。<br>\n",
    "$0 \\leq t \\leq 2\\pi$ <br>\n",
    "$|E_+|=|E_-|=1$<br>\n",
    "$\\omega=1$<br>\n",
    "$\\Delta \\phi = 0$ <br>\n",
    "のとき、\n",
    "$$\n",
    "E=E_+ + E_-\n",
    "$$\n",
    "を計算し、$E$の実部を横軸、$E_y$の実部を縦軸にプロットする。<br>\n",
    "また、$\\Delta \\phi$の値を変えることで、偏光面が回転することを確かめる。"
   ],
   "metadata": {
    "collapsed": false,
    "pycharm": {
     "name": "#%% md\n"
    }
   }
  },
  {
   "cell_type": "markdown",
   "source": [
    "例\n",
    "<img src=\"images/Q4_2.png\">"
   ],
   "metadata": {
    "collapsed": false,
    "pycharm": {
     "name": "#%% md\n"
    }
   }
  },
  {
   "cell_type": "markdown",
   "source": [
    "### (3)\n",
    "振幅が異なる左右円偏光を足すことで、楕円偏光になることを確かめる。<br>\n",
    "$0 \\leq t \\leq 2\\pi$ <br>\n",
    "$|E_+|=1.0,|E_-|=0.5$<br>\n",
    "$\\omega=1$<br>\n",
    "$\\Delta \\phi = 0$ <br>\n",
    "のとき、\n",
    "$$\n",
    "E=E_+ + E_-\n",
    "$$\n",
    "を計算し、$E$の実部を横軸、$E_y$の実部を縦軸にプロットする。<br>\n",
    "さらに、$\\Delta \\phi$の値を変えることで、偏光面が回転することを確かめる。"
   ],
   "metadata": {
    "collapsed": false,
    "pycharm": {
     "name": "#%% md\n"
    }
   }
  },
  {
   "cell_type": "markdown",
   "source": [
    "例\n",
    "<img src=\"images/Q4_3.png\">"
   ],
   "metadata": {
    "collapsed": false,
    "pycharm": {
     "name": "#%% md\n"
    }
   }
  }
 ],
 "metadata": {
  "kernelspec": {
   "display_name": "Python 3",
   "language": "python",
   "name": "python3"
  },
  "language_info": {
   "codemirror_mode": {
    "name": "ipython",
    "version": 2
   },
   "file_extension": ".py",
   "mimetype": "text/x-python",
   "name": "python",
   "nbconvert_exporter": "python",
   "pygments_lexer": "ipython2",
   "version": "2.7.6"
  }
 },
 "nbformat": 4,
 "nbformat_minor": 0
}