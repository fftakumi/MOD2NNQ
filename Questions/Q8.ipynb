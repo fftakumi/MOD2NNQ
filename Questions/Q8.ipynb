{
 "cells": [
  {
   "cell_type": "markdown",
   "metadata": {
    "pycharm": {
     "name": "#%% md\n"
    }
   },
   "source": [
    "# ストークスパラメータ"
   ]
  },
  {
   "cell_type": "markdown",
   "metadata": {
    "pycharm": {
     "name": "#%% md\n"
    }
   },
   "source": [
    "偏光状態の記述方法としてストークスパラメータ法がある。$0^\\circ ,45^\\circ ,90^\\circ ,135^\\circ $の検光子を通った光強度$I_{0^\\circ},I_{45^\\circ},I_{90^\\circ},I_{135^\\circ}$、左右円偏光の強度$I_R, I_L$を用いて、\n",
    "$$\n",
    "\\begin{aligned}\n",
    "S_0 &= I_{0^\\circ} + I_{45^\\circ} + I_{90^\\circ} + I_{135^\\circ} \\\\\n",
    "S_1 &= I_{0^\\circ} - I_{90^\\circ} \\\\\n",
    "S_2 &= I_{45^\\circ} - I_{135^\\circ} \\\\\n",
    "S_3 &= I_R - I_L\n",
    "\\end{aligned}\n",
    "$$\n",
    "と表せる。これを用いると、ファラデー回転角$\\phi_F$は\n",
    "$$\n",
    "\\phi_F = \\dfrac{1}{2}tan^{-1} \\left( \\dfrac{S_2}{S_1} \\right)\n",
    "$$\n",
    "として求められる。"
   ]
  },
  {
   "cell_type": "markdown",
   "metadata": {
    "pycharm": {
     "name": "#%% md\n"
    }
   },
   "source": [
    "### (1)\n",
    "この式を用いて、$-\\pi \\sim \\pi$傾いた直線偏光のファラデー回転角を測定し、横軸に入射光のファラデー回転角、縦軸にストクスパラメータを用いて測定したファラデー回転角をプロットする。\n",
    "<img src=\"images/Q8_1.png\">"
   ]
  },
  {
   "cell_type": "markdown",
   "metadata": {
    "pycharm": {
     "name": "#%% md\n"
    }
   },
   "source": [
    "### (2)\n",
    "今までやってきたことの合わせ技です。<br>\n",
    "以下の図のようなモデルで考えます。\n",
    "<img src=\"images/Q8_2.png\" width=500>\n",
    "波長が緑$(532 nm)$の一様な分布をもつ直線変更を\"5\"の形に磁化された磁性体を通った光を伝搬させ、スクリーンの位置でファラデー回転角をストークスパラメーター法によって求める。スクリーンの位置は$0mm, 0.2mm, 0.5mm, 1.0mm$とする。磁化された磁性体は磁区サイズが$1\\mu m$で$100\\times 100$の磁区を持つとして、それぞれの磁区のファラデー回転角は\"data/phase_5.csv\"の値を用いる。"
   ]
  }
 ],
 "metadata": {
  "kernelspec": {
   "display_name": "Python 3 (ipykernel)",
   "language": "python",
   "name": "python3"
  },
  "language_info": {
   "codemirror_mode": {
    "name": "ipython",
    "version": 3
   },
   "file_extension": ".py",
   "mimetype": "text/x-python",
   "name": "python",
   "nbconvert_exporter": "python",
   "pygments_lexer": "ipython3",
   "version": "3.9.13"
  }
 },
 "nbformat": 4,
 "nbformat_minor": 1
}