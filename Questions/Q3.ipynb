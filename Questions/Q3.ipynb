{
 "cells": [
  {
   "cell_type": "markdown",
   "metadata": {
    "pycharm": {
     "name": "#%% md\n"
    }
   },
   "source": [
    "# Reyleigh-Sommerfeldの回折公式を使った2次元光分布からの回折光の計算\n",
    "## Reyleigh-Sommerfeldの回折公式\n",
    "$$\\begin{align*}\n",
    "U(x,y,z) =\\iint \\dfrac{1}{2\\pi} \\dfrac{z}{r} \\left( \\dfrac{1}{r}-ik \\right) \\dfrac{exp(jkr)}{r}d\\xi d\\eta\n",
    "\\end{align*}\n",
    "$$\n",
    "※Q2の2次元バージョンです。"
   ]
  },
  {
   "cell_type": "markdown",
   "metadata": {
    "pycharm": {
     "name": "#%% md\n"
    }
   },
   "source": [
    "## 目標\n",
    "\"5\"の形の穴が空いたフォトマスクに光を入射したときの回折光を計算する。<br>\n",
    "\"Question/data/5.csv\"に以下のような0と1で構成された$100 \\times 100$画素の2次元のデータがある。<br>\n",
    "この1の部分が穴であるとしてさまざまな伝搬距離$z$における回折光を計算してみる。<br>\n",
    "また、今回もQ2と同様に、1画素に1点光源があるとする。\n",
    "<img src=\"images/Q3_1.png\">\n",
    "概略図は以下のような図で、スクリーンに映し出される象を計算するということです。\n",
    "<img src=\"images/Q3_2.png\" width=400px>"
   ]
  },
  {
   "cell_type": "markdown",
   "metadata": {
    "pycharm": {
     "name": "#%% md\n"
    }
   },
   "source": [
    "## 条件\n",
    "画素サイズ:$1\\mu m \\times 1\\mu m$ ($100\\times 100$画素なので、画像全体の大きさは$100 \\times 100 \\mu m^2$です。)<br>\n",
    "スクリーンサイズ:$100 \\times 100 \\mu m^2$(画像と同じ)<br>\n",
    "$z=0.1 mm, 0.2 mm, 0.5 mm, 1.0 mm$<br>\n",
    "波長:$633 nm$<br>\n",
    "画像の中心を原点とする。"
   ]
  },
  {
   "cell_type": "markdown",
   "metadata": {
    "pycharm": {
     "name": "#%% md\n"
    }
   },
   "source": [
    "<img src=\"images/Q3_3.png\">\n",
    "<img src=\"images/Q3_4.png\">\n",
    "<img src=\"images/Q3_5.png\">\n",
    "<img src=\"images/Q3_6.png\">"
   ]
  }
 ],
 "metadata": {
  "kernelspec": {
   "display_name": "Python 3 (ipykernel)",
   "language": "python",
   "name": "python3"
  },
  "language_info": {
   "codemirror_mode": {
    "name": "ipython",
    "version": 3
   },
   "file_extension": ".py",
   "mimetype": "text/x-python",
   "name": "python",
   "nbconvert_exporter": "python",
   "pygments_lexer": "ipython3",
   "version": "3.9.12"
  }
 },
 "nbformat": 4,
 "nbformat_minor": 1
}