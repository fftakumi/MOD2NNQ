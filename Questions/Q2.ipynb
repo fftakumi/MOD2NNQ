{
 "cells": [
  {
   "cell_type": "markdown",
   "source": [
    "# Reyleigh-Sommerfeldの回折公式を使った1次元回折格子の計算\n",
    "## 前提知識\n",
    "Reyleigh-Sommerfeldの回折公式\n",
    "光の進行方向がを$z$方向である時、ある位置$(x,y,z)$での電場$U(x,y,z)$は\n",
    "$$\\begin{align*}\n",
    "U(x,y,z) =\\iint \\dfrac{1}{2\\pi} \\dfrac{z}{r} \\left( \\dfrac{1}{r}-ik \\right) \\dfrac{exp(jkr)}{r}d\\xi d\\eta\n",
    "\\end{align*}\n",
    "$$\n",
    "で表される。ここで、$k$は波数、$\\xi,\\eta$は$z=0$平面における$x,y$座標であり、$r=\\sqrt{(x-\\xi)^2+(y-\\eta)^2+z^2}$である。\n",
    "この被積分関数\n",
    "$$h(x,y,z)=\\dfrac{1}{2\\pi} \\dfrac{z}{r} \\left( \\dfrac{1}{r}-ik \\right) \\dfrac{exp(jkr)}{r}$$\n",
    "は点光源から放たれる球面波の式になっている。"
   ],
   "metadata": {
    "collapsed": false,
    "pycharm": {
     "name": "#%% md\n"
    }
   }
  }
 ],
 "metadata": {
  "kernelspec": {
   "display_name": "Python 3",
   "language": "python",
   "name": "python3"
  },
  "language_info": {
   "codemirror_mode": {
    "name": "ipython",
    "version": 2
   },
   "file_extension": ".py",
   "mimetype": "text/x-python",
   "name": "python",
   "nbconvert_exporter": "python",
   "pygments_lexer": "ipython2",
   "version": "2.7.6"
  }
 },
 "nbformat": 4,
 "nbformat_minor": 0
}