{
 "cells": [
  {
   "cell_type": "markdown",
   "metadata": {
    "pycharm": {
     "name": "#%% md\n"
    }
   },
   "source": [
    "# Reyleigh-Sommerfeldの回折公式を使った1次元回折格子の計算\n",
    "## Reyleigh-Sommerfeldの回折公式\n",
    "$$\\begin{align*}\n",
    "U(x,y,z) =\\iint \\dfrac{1}{2\\pi} \\dfrac{z}{r} \\left( \\dfrac{1}{r}-ik \\right) \\dfrac{exp(jkr)}{r}d\\xi d\\eta\n",
    "\\end{align*}\n",
    "$$\n",
    "これの離散化バージョンは\n",
    "$$\n",
    "U(x,y,z) =\\sum_{n=1}^\\infty \\dfrac{1}{2\\pi} \\dfrac{z}{r_n} \\left( \\dfrac{1}{r_n}-ik \\right) \\dfrac{exp(jkr_n)}{r_n}\n",
    "$$\n",
    "となる。$h(x,y,z)$の数を$N$個と決めるならば、\n",
    "$$\n",
    "U(x,y,z) =\\sum_{n=1}^N \\dfrac{1}{2\\pi} \\dfrac{z}{r_n} \\left( \\dfrac{1}{r_n}-ik \\right) \\dfrac{exp(jkr_n)}{r_n}\n",
    "$$"
   ]
  },
  {
   "cell_type": "markdown",
   "metadata": {
    "pycharm": {
     "name": "#%% md\n"
    }
   },
   "source": [
    "## 目標\n",
    "$z=0, x=0$の位置に図のような穴の空いたパターンがあるとして、$z=25cm$の部分で観察される回折光を計算してみる。本来、穴の空いた部分は無限に点光源を並べるべきだけど、今回は1つだけおくことにする。つまり、$2\\mu m$おきに点光源を並べることになる。ちなみに、これでも$z$が大きい場合にはかなりいい近似になる。式で無理矢理書けば、\n",
    "$$\n",
    "U(x,y,z) =\\sum_{n=1}^N \\dfrac{1}{2\\pi} \\dfrac{z}{r_n} \\left( \\dfrac{1}{r_n}-ik \\right) \\dfrac{exp(jkr_n)}{r_n}\\\\\n",
    "r_n=\\sqrt{(\\zeta - x)^2 + (\\eta - n\\times 2\\mu m)^2 + z^2}\n",
    "$$\n",
    "となる。また、光検出器で捉えるような光強度$I$は、電場を$E$として、\n",
    "$$I=\\dfrac{1}{2}|E|^2$$\n",
    "となる。\n",
    "<img src=\"images/Q2_1.png\" width=\"200px\">\n"
   ]
  },
  {
   "cell_type": "markdown",
   "metadata": {
    "pycharm": {
     "name": "#%% md\n"
    }
   },
   "source": []
  },
  {
   "cell_type": "markdown",
   "metadata": {
    "pycharm": {
     "name": "#%% md\n"
    }
   },
   "source": [
    "## 条件\n",
    "波長$\\lambda$ : $633nm$<br>\n",
    "$2\\mu m$おきに21個の点光源を$z=0,y=0$の場所に$y$軸方向に並べる<br>\n",
    "スクリーン側は<br>\n",
    "$x=0$<br>\n",
    "$y=-25cm \\leq z \\leq 25cm$<br>\n",
    "$z=25cm$<br>\n",
    "※光強度をプロットしてください。"
   ]
  },
  {
   "cell_type": "markdown",
   "source": [
    "## 回答例\n",
    "![diffpattn](images/Q2_2.png)"
   ],
   "metadata": {
    "collapsed": false,
    "pycharm": {
     "name": "#%% md\n"
    }
   }
  }
 ],
 "metadata": {
  "kernelspec": {
   "display_name": "Python 3 (ipykernel)",
   "language": "python",
   "name": "python3"
  },
  "language_info": {
   "codemirror_mode": {
    "name": "ipython",
    "version": 3
   },
   "file_extension": ".py",
   "mimetype": "text/x-python",
   "name": "python",
   "nbconvert_exporter": "python",
   "pygments_lexer": "ipython3",
   "version": "3.9.12"
  }
 },
 "nbformat": 4,
 "nbformat_minor": 1
}