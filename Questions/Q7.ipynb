{
 "cells": [
  {
   "cell_type": "markdown",
   "source": [
    "# 偏光素子(ジョーンズ行列)"
   ],
   "metadata": {
    "collapsed": false,
    "pycharm": {
     "name": "#%% md\n"
    }
   }
  },
  {
   "cell_type": "markdown",
   "source": [
    "偏光子や波長板による偏光状態の変更はジョーンズ行列$J$によって一般に、\n",
    "$$\n",
    "\\begin{aligned}\n",
    "\\begin{pmatrix}\n",
    "E_x^{'} \\\\\n",
    "E_y^{'} \\\\\n",
    "\\end{pmatrix}\n",
    "=J\n",
    "\\begin{pmatrix}\n",
    "E_x \\\\\n",
    "E_y \\\\\n",
    "\\end{pmatrix}\n",
    "\\end{aligned}\n",
    "$$\n",
    "と表す。"
   ],
   "metadata": {
    "collapsed": false,
    "pycharm": {
     "name": "#%% md\n"
    }
   }
  },
  {
   "cell_type": "markdown",
   "source": [
    "## 偏光子、検光子\n",
    "$x,y$軸上の点を$\\theta$回転させるには、回転行列$R$を用いて、\n",
    "$$\n",
    "\\begin{aligned}\n",
    "\\begin{pmatrix}\n",
    "x^{'} \\\\\n",
    "y^{'} \\\\\n",
    "\\end{pmatrix}\n",
    "&=R\n",
    "\\begin{pmatrix}\n",
    "x \\\\\n",
    "y \\\\\n",
    "\\end{pmatrix} \\\\\n",
    "&=\n",
    "\\begin{pmatrix}\n",
    "cos(\\theta) & -sin(\\theta) \\\\\n",
    "sin(\\theta) & cos(\\theta) \\\\\n",
    "\\end{pmatrix}\n",
    "\\begin{pmatrix}\n",
    "x \\\\\n",
    "y \\\\\n",
    "\\end{pmatrix}\n",
    "\\end{aligned}\n",
    "$$\n",
    "と表せる。よって電場も同じく、\n",
    "$$\n",
    "\\begin{aligned}\n",
    "\\begin{pmatrix}\n",
    "E_x^{'} \\\\\n",
    "E_y^{'} \\\\\n",
    "\\end{pmatrix}\n",
    "=\n",
    "\\begin{pmatrix}\n",
    "cos(\\theta) & -sin(\\theta) \\\\\n",
    "sin(\\theta) & cos(\\theta) \\\\\n",
    "\\end{pmatrix}\n",
    "\\begin{pmatrix}\n",
    "E_x \\\\\n",
    "E_y \\\\\n",
    "\\end{pmatrix}\n",
    "\\end{aligned}\n",
    "$$\n",
    "として表せる。しかし、これは三角関数の性質上左回りが正となる。よって、右まりを正とするような系では$\\theta=-\\phi$として、回転行列は\n",
    "$$\n",
    "\\begin{aligned}\n",
    "R=\n",
    "\\begin{pmatrix}\n",
    "cos(-\\phi) & -sin(-\\phi) \\\\\n",
    "sin(-\\phi) & cos(-\\phi) \\\\\n",
    "\\end{pmatrix}\n",
    "\\end{aligned}\n",
    "$$\n",
    "となる。今まで右回りを正として考えていたのでこちらを使う。"
   ],
   "metadata": {
    "collapsed": false,
    "pycharm": {
     "name": "#%% md\n"
    }
   }
  },
  {
   "cell_type": "markdown",
   "source": [
    "偏光子を通る光は透過軸に沿った直線変更になる。透過軸が、$\\phi=\\pi/4$または$\\theta=-\\pi/4$である時、$x$軸のみ透過させる行列\n",
    "$$\n",
    "\\begin{aligned}\n",
    "T=\n",
    "\\begin{pmatrix}\n",
    "1 & 0 \\\\\n",
    "0 & 0 \\\\\n",
    "\\end{pmatrix}\n",
    "\\end{aligned}\n",
    "$$\n",
    "を用いて、\n",
    "$$\n",
    "\\begin{aligned}\n",
    "E^{'}&=RTR^{-1}E \\\\\n",
    "\\begin{pmatrix}\n",
    "E_x^{'} \\\\\n",
    "E_y^{'} \\\\\n",
    "\\end{pmatrix}\n",
    "&=\n",
    "\\begin{pmatrix}\n",
    "cos(-\\phi) & -sin(-\\phi) \\\\\n",
    "sin(-\\phi) & cos(-\\phi) \\\\\n",
    "\\end{pmatrix}\n",
    "\\begin{pmatrix}\n",
    "1 & 0 \\\\\n",
    "0 & 0 \\\\\n",
    "\\end{pmatrix}\n",
    "\\begin{pmatrix}\n",
    "cos(-\\phi) & sin(-\\phi) \\\\\n",
    "-sin(-\\phi) & cos(-\\phi) \\\\\n",
    "\\end{pmatrix}\n",
    "\\begin{pmatrix}\n",
    "E_x \\\\\n",
    "E_y \\\\\n",
    "\\end{pmatrix} \\\\\n",
    "&=\n",
    "\\begin{pmatrix}\n",
    "cos^2(-\\phi) & sin(-\\phi)cos(-\\phi) \\\\\n",
    "sin(-\\phi)cos(-\\phi) & sin^2(-\\phi) \\\\\n",
    "\\end{pmatrix}\n",
    "\\begin{pmatrix}\n",
    "E_x \\\\\n",
    "E_y \\\\\n",
    "\\end{pmatrix} \\\\\n",
    "&=\n",
    "\\begin{pmatrix}\n",
    "cos^2(-\\phi) & \\dfrac{1}{2} sin(-2\\phi) \\\\\n",
    "\\dfrac{1}{2} sin(-2\\phi) & sin^2(-\\phi) \\\\\n",
    "\\end{pmatrix}\n",
    "\\begin{pmatrix}\n",
    "E_x \\\\\n",
    "E_y \\\\\n",
    "\\end{pmatrix}\n",
    "\\end{aligned}\n",
    "$$\n",
    "と表すことができる。よって$x$軸から右回りに$\\phi$回転した偏光子のジョーンズ行列$T_\\phi$は\n",
    "$$\n",
    "\\begin{aligned}\n",
    "T_\\phi=\n",
    "\\begin{pmatrix}\n",
    "cos^2(-\\phi) & \\dfrac{1}{2} sin(-2\\phi) \\\\\n",
    "\\dfrac{1}{2} sin(-2\\phi) & sin^2(-\\phi) \\\\\n",
    "\\end{pmatrix}\n",
    "\\end{aligned}\n",
    "$$\n",
    "である。"
   ],
   "metadata": {
    "collapsed": false,
    "pycharm": {
     "name": "#%% md\n"
    }
   }
  },
  {
   "cell_type": "code",
   "execution_count": null,
   "outputs": [],
   "source": [],
   "metadata": {
    "collapsed": false,
    "pycharm": {
     "name": "#%%\n"
    }
   }
  }
 ],
 "metadata": {
  "kernelspec": {
   "display_name": "Python 3",
   "language": "python",
   "name": "python3"
  },
  "language_info": {
   "codemirror_mode": {
    "name": "ipython",
    "version": 2
   },
   "file_extension": ".py",
   "mimetype": "text/x-python",
   "name": "python",
   "nbconvert_exporter": "python",
   "pygments_lexer": "ipython2",
   "version": "2.7.6"
  }
 },
 "nbformat": 4,
 "nbformat_minor": 0
}