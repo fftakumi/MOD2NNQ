{
 "cells": [
  {
   "cell_type": "markdown",
   "metadata": {
    "pycharm": {
     "name": "#%% md\n"
    }
   },
   "source": [
    "# 偏光素子(ジョーンズ行列)"
   ]
  },
  {
   "cell_type": "markdown",
   "metadata": {
    "pycharm": {
     "name": "#%% md\n"
    }
   },
   "source": [
    "偏光子や波長板による偏光状態の変更はジョーンズ行列$J$によって一般に、\n",
    "$$\n",
    "\\begin{aligned}\n",
    "\\begin{pmatrix}\n",
    "E_x^{'} \\\\\n",
    "E_y^{'} \\\\\n",
    "\\end{pmatrix}\n",
    "=J\n",
    "\\begin{pmatrix}\n",
    "E_x \\\\\n",
    "E_y \\\\\n",
    "\\end{pmatrix}\n",
    "\\end{aligned}\n",
    "$$\n",
    "と表す。"
   ]
  },
  {
   "cell_type": "markdown",
   "metadata": {
    "pycharm": {
     "name": "#%% md\n"
    }
   },
   "source": [
    "## 偏光子、検光子\n",
    "$x,y$軸上の点を$\\theta$回転させるには、回転行列$R$を用いて、\n",
    "$$\n",
    "\\begin{aligned}\n",
    "\\begin{pmatrix}\n",
    "x^{'} \\\\\n",
    "y^{'} \\\\\n",
    "\\end{pmatrix}\n",
    "&=R\n",
    "\\begin{pmatrix}\n",
    "x \\\\\n",
    "y \\\\\n",
    "\\end{pmatrix} \\\\\n",
    "&=\n",
    "\\begin{pmatrix}\n",
    "cos(\\theta) & -sin(\\theta) \\\\\n",
    "sin(\\theta) & cos(\\theta) \\\\\n",
    "\\end{pmatrix}\n",
    "\\begin{pmatrix}\n",
    "x \\\\\n",
    "y \\\\\n",
    "\\end{pmatrix}\n",
    "\\end{aligned}\n",
    "$$\n",
    "と表せる。よって電場も同じく、\n",
    "$$\n",
    "\\begin{aligned}\n",
    "\\begin{pmatrix}\n",
    "E_x^{'} \\\\\n",
    "E_y^{'} \\\\\n",
    "\\end{pmatrix}\n",
    "=\n",
    "\\begin{pmatrix}\n",
    "cos(\\theta) & -sin(\\theta) \\\\\n",
    "sin(\\theta) & cos(\\theta) \\\\\n",
    "\\end{pmatrix}\n",
    "\\begin{pmatrix}\n",
    "E_x \\\\\n",
    "E_y \\\\\n",
    "\\end{pmatrix}\n",
    "\\end{aligned}\n",
    "$$\n",
    "として表せる。しかし、これは三角関数の性質上左回りが正となる。よって、右まりを正とするような系では$\\theta=-\\phi$として、回転行列は\n",
    "$$\n",
    "\\begin{aligned}\n",
    "R=\n",
    "\\begin{pmatrix}\n",
    "cos(-\\phi) & -sin(-\\phi) \\\\\n",
    "sin(-\\phi) & cos(-\\phi) \\\\\n",
    "\\end{pmatrix}\n",
    "\\end{aligned}\n",
    "$$\n",
    "となる。今まで右回りを正として考えていたのでこちらを使う。"
   ]
  },
  {
   "cell_type": "markdown",
   "metadata": {
    "pycharm": {
     "name": "#%% md\n"
    }
   },
   "source": [
    "偏光子を通る光は透過軸に沿った直線変更になる。透過軸が、$\\phi=\\pi/4$または$\\theta=-\\pi/4$である時、$x$軸のみ透過させる行列\n",
    "$$\n",
    "\\begin{aligned}\n",
    "T=\n",
    "\\begin{pmatrix}\n",
    "1 & 0 \\\\\n",
    "0 & 0 \\\\\n",
    "\\end{pmatrix}\n",
    "\\end{aligned}\n",
    "$$\n",
    "を用いて、\n",
    "$$\n",
    "\\begin{aligned}\n",
    "E^{'}&=RTR^{-1}E \\\\\n",
    "\\begin{pmatrix}\n",
    "E_x^{'} \\\\\n",
    "E_y^{'} \\\\\n",
    "\\end{pmatrix}\n",
    "&=\n",
    "\\begin{pmatrix}\n",
    "cos(-\\phi) & -sin(-\\phi) \\\\\n",
    "sin(-\\phi) & cos(-\\phi) \\\\\n",
    "\\end{pmatrix}\n",
    "\\begin{pmatrix}\n",
    "1 & 0 \\\\\n",
    "0 & 0 \\\\\n",
    "\\end{pmatrix}\n",
    "\\begin{pmatrix}\n",
    "cos(-\\phi) & sin(-\\phi) \\\\\n",
    "-sin(-\\phi) & cos(-\\phi) \\\\\n",
    "\\end{pmatrix}\n",
    "\\begin{pmatrix}\n",
    "E_x \\\\\n",
    "E_y \\\\\n",
    "\\end{pmatrix} \\\\\n",
    "&=\n",
    "\\begin{pmatrix}\n",
    "cos^2(-\\phi) & sin(-\\phi)cos(-\\phi) \\\\\n",
    "sin(-\\phi)cos(-\\phi) & sin^2(-\\phi) \\\\\n",
    "\\end{pmatrix}\n",
    "\\begin{pmatrix}\n",
    "E_x \\\\\n",
    "E_y \\\\\n",
    "\\end{pmatrix} \\\\\n",
    "&=\n",
    "\\begin{pmatrix}\n",
    "cos^2(-\\phi) & \\dfrac{1}{2} sin(-2\\phi) \\\\\n",
    "\\dfrac{1}{2} sin(-2\\phi) & sin^2(-\\phi) \\\\\n",
    "\\end{pmatrix}\n",
    "\\begin{pmatrix}\n",
    "E_x \\\\\n",
    "E_y \\\\\n",
    "\\end{pmatrix}\n",
    "\\end{aligned}\n",
    "$$\n",
    "と表すことができる。よって$x$軸から右回りに$\\phi$回転した偏光子のジョーンズ行列$T_\\phi$は\n",
    "$$\n",
    "\\begin{aligned}\n",
    "T_\\phi=\n",
    "\\begin{pmatrix}\n",
    "cos^2(-\\phi) & \\dfrac{1}{2} sin(-2\\phi) \\\\\n",
    "\\dfrac{1}{2} sin(-2\\phi) & sin^2(-\\phi) \\\\\n",
    "\\end{pmatrix}\n",
    "\\end{aligned}\n",
    "$$\n",
    "である。"
   ]
  },
  {
   "cell_type": "markdown",
   "source": [
    "## 波長板\n",
    "$x$軸にfast軸をもつ波長板に置いて、位相を$\\delta$だけ進める行列$M$は\n",
    "$$\n",
    "\\begin{aligned}\n",
    "M=\n",
    "\\begin{pmatrix}\n",
    "e^{i\\dfrac{\\delta}{2}} & 0 \\\\\n",
    "0 & e^{-i\\dfrac{\\delta}{2}} \\\\\n",
    "\\end{pmatrix}\n",
    "\\end{aligned}\n",
    "$$\n",
    "として表せる。この波長板が$x$軸から$\\phi$だけ傾いて入れば、波長板を通過する電場は\n",
    "$$\n",
    "\\begin{aligned}\n",
    "E^{'} &= RMR^{-1}E \\\\\n",
    "\\begin{pmatrix}\n",
    "E_x^{'} \\\\\n",
    "E_y^{'} \\\\\n",
    "\\end{pmatrix}\n",
    "&=\n",
    "\\begin{pmatrix}\n",
    "cos(-\\phi) & -sin(-\\phi) \\\\\n",
    "sin(-\\phi) & cos(-\\phi) \\\\\n",
    "\\end{pmatrix}\n",
    "\\begin{pmatrix}\n",
    "e^{i\\dfrac{\\delta}{2}} & 0 \\\\\n",
    "0 & e^{-i\\dfrac{\\delta}{2}} \\\\\n",
    "\\end{pmatrix}\n",
    "\\begin{pmatrix}\n",
    "cos(-\\phi) & sin(-\\phi) \\\\\n",
    "-sin(-\\phi) & cos(-\\phi) \\\\\n",
    "\\end{pmatrix}\n",
    "\\begin{pmatrix}\n",
    "E_x \\\\\n",
    "E_y \\\\\n",
    "\\end{pmatrix} \\\\\n",
    "&=\n",
    "\\begin{pmatrix}\n",
    "e^{i\\dfrac{\\delta}{2}}cos^2(-\\phi) + e^{-i\\dfrac{\\delta}{2}}sin^2(-\\phi) & isin(-2\\phi)sin\\left( \\dfrac{\\delta}{2}\\right) \\\\\n",
    "isin(-2\\phi)sin\\left( \\dfrac{\\delta}{2}\\right) & e^{i\\dfrac{\\delta}{2}}sin^2(-\\phi) + e^{-i\\dfrac{\\delta}{2}}cos^2(-\\phi) \\\\\n",
    "\\end{pmatrix}\n",
    "\\begin{pmatrix}\n",
    "E_x \\\\\n",
    "E_y \\\\\n",
    "\\end{pmatrix}\n",
    "\\end{aligned}\n",
    "$$\n",
    "\n",
    "よってfast軸が$x$軸から右回りに$\\phi$傾いて、fast軸を$\\delta$だけ早める波長板のジョーンズ行列は\n",
    "$$\n",
    "M_{\\phi, \\delta} =\n",
    "\\begin{pmatrix}\n",
    "e^{i\\dfrac{\\delta}{2}}cos^2(-\\phi) + e^{-i\\dfrac{\\delta}{2}}sin^2(-\\phi) & isin(-2\\phi)sin\\left( \\dfrac{\\delta}{2}\\right) \\\\\n",
    "isin(-2\\phi)sin\\left( \\dfrac{\\delta}{2}\\right) & e^{i\\dfrac{\\delta}{2}}sin^2(-\\phi) + e^{-i\\dfrac{\\delta}{2}}cos^2(-\\phi) \\\\\n",
    "\\end{pmatrix}\n",
    "$$\n",
    "となる。"
   ],
   "metadata": {
    "collapsed": false,
    "pycharm": {
     "name": "#%% md\n"
    }
   }
  },
  {
   "cell_type": "markdown",
   "source": [
    "### (1)\n",
    "$\\phi=\\pi/4$傾いた直線偏光を用意し偏光子を通過した光の強度を計算する。偏光子の角度を変えて計算し、横軸を偏光子の角度、縦軸を光強度としてプロットする。\n",
    "<img src=\"images/Q7_1.png\">"
   ],
   "metadata": {
    "collapsed": false,
    "pycharm": {
     "name": "#%% md\n"
    }
   }
  },
  {
   "cell_type": "markdown",
   "source": [
    "### (2)\n",
    "fast軸を$x$軸に持ち、位相を$\\pi/2$早める波長板に$\\phi=\\pi/4$傾いた直線偏光を入射すると円偏光になることを確かめる。方法は問いません。\n",
    "<img src=\"images/Q7_2.png\">"
   ],
   "metadata": {
    "collapsed": false,
    "pycharm": {
     "name": "#%% md\n"
    }
   }
  }
 ],
 "metadata": {
  "kernelspec": {
   "display_name": "Python 3 (ipykernel)",
   "language": "python",
   "name": "python3"
  },
  "language_info": {
   "codemirror_mode": {
    "name": "ipython",
    "version": 3
   },
   "file_extension": ".py",
   "mimetype": "text/x-python",
   "name": "python",
   "nbconvert_exporter": "python",
   "pygments_lexer": "ipython3",
   "version": "3.9.13"
  }
 },
 "nbformat": 4,
 "nbformat_minor": 1
}