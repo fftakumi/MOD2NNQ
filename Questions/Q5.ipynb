{
 "cells": [
  {
   "cell_type": "markdown",
   "source": [
    "# 角スペクトル法"
   ],
   "metadata": {
    "collapsed": false,
    "pycharm": {
     "name": "#%% md\n"
    }
   }
  },
  {
   "cell_type": "markdown",
   "source": [
    "※理論に関しては、いろんなとこに乗ってるので、ここでは、細かい理論は取り扱いません。プログラムによる実装をメインにします。<br>\n",
    "前回、点光源を並べる方法で計算した方法は非常に重いし、伝搬距離が近い場合に正確な計算ができません。これは、Reyleigh-Sommerfeldの積分公式を離散化して計算する時に点光源が1つという乱暴な離散化をしているからです。もっと密に点光源を並べることで解決できますが、重すぎて話になりません。そこで、FFTを用いて光の伝搬ができる角スペクトル法を用います。"
   ],
   "metadata": {
    "collapsed": false,
    "pycharm": {
     "name": "#%% md\n"
    }
   }
  },
  {
   "cell_type": "markdown",
   "source": [
    "伝搬元の複素電場分布$g(x,y,0)$を距離$z$離れた場所へ伝搬した後の複素電場分布$g(x,y,z)$を求めることを考える。この時、角スペクトル法を用いると、\n",
    "$$\n",
    "\\begin{align}\n",
    "g(x,y,z) &= F^{-1} \\{ G(x,y,0)H(x,y,z) \\} \\\\\n",
    "G(x,y,0) &= F\\{ g(x,y,0) \\} \\\\\n",
    "H(x,y,z) &= F\\{ h(x,y,z) \\} = exp(i2\\pi \\omega z) \\\\\n",
    "\\omega = \\omega(u, v) &=\n",
    "   \\begin{cases}\n",
    "        (\\lambda^{-2} - u^2 - v^2)^{1/2} \\quad & u^2 + v^2 \\leq \\lambda^{-2} \\\\\n",
    "        0& otherwise\n",
    "   \\end{cases}\n",
    "\\end{align}\n",
    "$$\n",
    "として求められます。$F, F^{-1}$はそれぞれフーリエ変換、逆フーリエ変換、$\\lambda$は波長、$u,v$は$x,y$方向の空間周波数、$h(x,y,z)$は\n",
    "$$h(x,y,z)=\\dfrac{1}{2\\pi} \\dfrac{z}{r} \\left( \\dfrac{1}{r}-ik \\right) \\dfrac{exp(jkr)}{r}$$\n",
    "です。"
   ],
   "metadata": {
    "collapsed": false,
    "pycharm": {
     "name": "#%% md\n"
    }
   }
  },
  {
   "cell_type": "markdown",
   "source": [
    "## 条件\n",
    "今回もQ3のときと同様に\"Question/data/5.csv\"を用いて計算します。このファイルの値が入力電場$g(x,y,0)$の振幅として、<br>\n",
    "画素サイズ:$1\\mu m \\times 1\\mu m$ ($100\\times 100$画素なので、画像全体の大きさは$100 \\times 100 \\mu m^2$です。)<br>\n",
    "$z=0.1 mm, 0.2 mm, 0.5 mm, 1.0 mm$<br>\n",
    "波長$\\lambda$:$633 nm$<br>\n",
    "で計算します。伝搬距離が増えるとノイズが出ますが、これは使用です。後にこれを改善したものをやります。"
   ],
   "metadata": {
    "collapsed": false,
    "pycharm": {
     "name": "#%% md\n"
    }
   }
  },
  {
   "cell_type": "markdown",
   "source": [
    "<img src=\"images/Q5_1.png\">\n",
    "<img src=\"images/Q5_2.png\">\n",
    "<img src=\"images/Q5_3.png\">\n",
    "<img src=\"images/Q5_4.png\">"
   ],
   "metadata": {
    "collapsed": false,
    "pycharm": {
     "name": "#%% md\n"
    }
   }
  }
 ],
 "metadata": {
  "kernelspec": {
   "display_name": "Python 3",
   "language": "python",
   "name": "python3"
  },
  "language_info": {
   "codemirror_mode": {
    "name": "ipython",
    "version": 2
   },
   "file_extension": ".py",
   "mimetype": "text/x-python",
   "name": "python",
   "nbconvert_exporter": "python",
   "pygments_lexer": "ipython2",
   "version": "2.7.6"
  }
 },
 "nbformat": 4,
 "nbformat_minor": 0
}