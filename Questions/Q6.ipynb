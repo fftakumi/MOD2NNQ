{
 "cells": [
  {
   "cell_type": "markdown",
   "source": [
    "# 帯域制限&4倍拡張角スペクトル法"
   ],
   "metadata": {
    "collapsed": false,
    "pycharm": {
     "name": "#%% md\n"
    }
   }
  },
  {
   "cell_type": "markdown",
   "source": [
    "Q5のノイズを防ぐ方法です。詳しい理論については、[こちら](https://opg.optica.org/oe/fulltext.cfm?uri=oe-17-22-19662&id=186848)から読めます。\n",
    "Q5で行った角スペクトル法に加えて、まずは、縦横のサイズが２倍になるように、以下のように入力画像の周りを0埋めします。\n",
    "<img src=\"images/Q6_1.png\">"
   ],
   "metadata": {
    "collapsed": false,
    "pycharm": {
     "name": "#%% md\n"
    }
   }
  },
  {
   "cell_type": "markdown",
   "source": [
    "そして、0埋めした画像を使ってQ5と同じように、逆フーリエ変換する一歩手前まで計算します。ここで周波数応答関数\n",
    "$$\n",
    "H(u,v,z)=exp(i2 \\pi \\omega z)\n",
    "$$\n",
    "に制約条件を付けます。$S_x,S_y$を0埋め後の$x,y$方向のサンプル数(ピクセル数)、$d$をサンプリング間隔(1画素の大きさ)として、\n",
    "$$\n",
    "\\Delta u = S_x^{-1}d, \\Delta v = S_y^{-1}d \\\\\n",
    "u_{limit} = \\dfrac{1}{\\lambda \\sqrt{(2\\Delta u z)^2+1}},v_{limit} = \\dfrac{1}{\\lambda \\sqrt{(2\\Delta v z)^2+1}}\n",
    "$$\n",
    "という量を用いて、周波数応答関数を新しく\n",
    "$$\n",
    "H^' (u,v,z)=H(u,v,z)    Rect \\left( \\dfrac{u}{2u_{limit}} \\right) Rect \\left( \\dfrac{v}{2v_{limit}} \\right)\n",
    "$$\n",
    "とし、これを代わりに使います。出てくる画像は2倍大きい画像になっているので、元々のサイズで切り抜いて完成です。Q5と同じ条件で、計算してみてください。"
   ],
   "metadata": {
    "collapsed": false,
    "pycharm": {
     "name": "#%% md\n"
    }
   }
  },
  {
   "cell_type": "markdown",
   "source": [
    "<img src=\"images/Q6_1.png\">\n",
    "<img src=\"images/Q6_2.png\">\n",
    "<img src=\"images/Q6_3.png\">\n",
    "<img src=\"images/Q6_4.png\">"
   ],
   "metadata": {
    "collapsed": false,
    "pycharm": {
     "name": "#%% md\n"
    }
   }
  }
 ],
 "metadata": {
  "kernelspec": {
   "display_name": "Python 3",
   "language": "python",
   "name": "python3"
  },
  "language_info": {
   "codemirror_mode": {
    "name": "ipython",
    "version": 2
   },
   "file_extension": ".py",
   "mimetype": "text/x-python",
   "name": "python",
   "nbconvert_exporter": "python",
   "pygments_lexer": "ipython2",
   "version": "2.7.6"
  }
 },
 "nbformat": 4,
 "nbformat_minor": 0
}