{
 "cells": [
  {
   "cell_type": "markdown",
   "metadata": {
    "pycharm": {
     "name": "#%% md\n"
    }
   },
   "source": [
    "# 帯域制限&4倍拡張角スペクトル法"
   ]
  },
  {
   "cell_type": "markdown",
   "metadata": {
    "pycharm": {
     "name": "#%% md\n"
    }
   },
   "source": [
    "Q5のノイズを防ぐ方法です。詳しい理論については、[こちら](https://opg.optica.org/oe/fulltext.cfm?uri=oe-17-22-19662&id=186848)から読めます。\n",
    "Q5で行った角スペクトル法に加えて、まずは、縦横のサイズが２倍になるように、以下のように入力画像の周りを0埋めします。\n",
    "<img src=\"images/Q6_1.png\">"
   ]
  },
  {
   "cell_type": "markdown",
   "metadata": {
    "pycharm": {
     "name": "#%% md\n"
    }
   },
   "source": [
    "そして、0埋めした画像を使ってQ5と同じように、逆フーリエ変換する一歩手前まで計算します。ここで周波数応答関数\n",
    "$$\n",
    "H(u,v,z)=exp(i2 \\pi \\omega z)\n",
    "$$\n",
    "に制約条件を付けます。$S_x,S_y$を0埋め後の$x,y$方向のサンプル数(ピクセル数)、$d$をサンプリング間隔(1画素の大きさ)として、\n",
    "$$\n",
    "\\begin{aligned}\n",
    "\\Delta u &=& S_x^{-1}d \\\\\n",
    "\\Delta v &=& S_y^{-1}d \\\\\n",
    "u_{limit} &=& \\dfrac{1}{\\lambda \\sqrt{(2\\Delta u z)^2+1}} \\\\\n",
    "v_{limit} &=& \\dfrac{1}{\\lambda \\sqrt{(2\\Delta v z)^2+1}}\n",
    "\\end{aligned}\n",
    "$$\n",
    "という量を用いて、周波数応答関数を新しく\n",
    "$$\n",
    "H^{'} (u,v,z)=H(u,v,z) Rect \\left( \\dfrac{u}{2u_{limit}} \\right) Rect \\left( \\dfrac{v}{2v_{limit}} \\right)\n",
    "$$\n",
    "とし、これを代わりに使います。出てくる画像は2倍大きい画像になっているので、元々のサイズで切り抜いて完成です。Q5と同じ条件で、計算してみてください。"
   ]
  },
  {
   "cell_type": "markdown",
   "metadata": {
    "pycharm": {
     "name": "#%% md\n"
    }
   },
   "source": [
    "<img src=\"images/Q6_1.png\">\n",
    "<img src=\"images/Q6_2.png\">\n",
    "<img src=\"images/Q6_3.png\">\n",
    "<img src=\"images/Q6_4.png\">"
   ]
  },
  {
   "cell_type": "code",
   "execution_count": null,
   "metadata": {
    "pycharm": {
     "name": "#%%\n"
    }
   },
   "outputs": [],
   "source": []
  }
 ],
 "metadata": {
  "kernelspec": {
   "display_name": "Python 3 (ipykernel)",
   "language": "python",
   "name": "python3"
  },
  "language_info": {
   "codemirror_mode": {
    "name": "ipython",
    "version": 3
   },
   "file_extension": ".py",
   "mimetype": "text/x-python",
   "name": "python",
   "nbconvert_exporter": "python",
   "pygments_lexer": "ipython3",
   "version": "3.9.13"
  }
 },
 "nbformat": 4,
 "nbformat_minor": 1
}